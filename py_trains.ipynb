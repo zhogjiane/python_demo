{
 "cells": [
  {
   "cell_type": "markdown",
   "metadata": {},
   "source": [
    "<!-- python flask 练习 -->\n"
   ]
  },
  {
   "cell_type": "code",
   "execution_count": 1,
   "metadata": {},
   "outputs": [],
   "source": [
    "#  -*- coding: utf-8 -*-\n",
    "#  引入flask框架\n",
    "from flask import Flask, Response, make_response, jsonify\n",
    "# 引入python mysql\n",
    "import pymysql\n",
    "# 引入python的配置读取模块\n",
    "import configparser\n",
    "# 引入json模块\n",
    "import json\n",
    "# 引入线程模块 模拟nacos心跳监测\n",
    "from threading import Timer\n",
    "# 引入flask_restful模块\n",
    "from flask_restful import Api, Resource\n",
    "\n",
    "#  引入数据库连接池\n",
    "from py_trains.py_trains_db import mysql_connect\n",
    "#  引入日志模块\n",
    "import logging\n",
    "# 引入io模块\n",
    "import io"
   ]
  },
  {
   "cell_type": "code",
   "execution_count": null,
   "metadata": {},
   "outputs": [],
   "source": [
    "SERVER_ADDRESSES = \"10.0.59.135:30848\"\n",
    "NAMESPACE = \"slide-dev\"\n",
    "client = nacos.NacosClient(SERVER_ADDRESSES, namespace=NAMESPACE)\n",
    "nacos_conf = client.get_config(\"icp-cloud-bda-pre-charging-circuitfault-detection-service\", \"DEFAULT_GROUP\", True,\n",
    "                               True)\n",
    "conf = configparser.ConfigParser()\n",
    "conf.readfp(io.StringIO(nacos_conf))\n",
    "\n",
    "clientInstance = nacos.NacosClient(SERVER_ADDRESSES, namespace=NAMESPACE, username=\"icpx-dev\", password=\"icpx-dev@icpx2021\")\n",
    "\n",
    "clientInstance.add_naming_instance(\"icp-cloud-bda-pre-charging-circuitfault-detection-service\", conf.get(\"app\", \"host\"),\n",
    "                                   conf.get(\"flask\", \"port\"), \"DEFAULT\")\n",
    "\n",
    "\n",
    "def heartbeatCheck():\n",
    "    try:\n",
    "        clientInstance.send_heartbeat(\"icp-cloud-bda-pre-charging-circuitfault-detection-service\", conf.get(\"app\", \"host\"),\n",
    "                                    conf.get(\"flask\", \"port\"), \"DEFAULT\")\n",
    "    except Exception as e:\n",
    "        logging.error('Reason:', e)\n",
    "\n",
    "\n",
    "class RepeatingTimer(Timer):\n",
    "    def run(self):\n",
    "        while not self.finished.is_set():\n",
    "            self.function(*self.args, **self.kwargs)\n",
    "            self.finished.wait(self.interval)\n",
    "\n",
    "\n",
    "t = RepeatingTimer(3.0, heartbeatCheck)\n",
    "t.start()            "
   ]
  },
  {
   "cell_type": "code",
   "execution_count": 4,
   "metadata": {},
   "outputs": [
    {
     "name": "stdout",
     "output_type": "stream",
     "text": [
      "小明\n"
     ]
    }
   ],
   "source": [
    "#  创建一个学生类 学生姓名 学生班级 学生年龄\n",
    "class Student(object):\n",
    "    def __init__(self, name, age, grade):\n",
    "        self.name = name\n",
    "        self.age = age\n",
    "        self.grade = grade\n",
    "\n",
    "\n",
    "#  创建一个 小明学生 12 3班 20岁\n",
    "student = Student('小明', 12, 3)\n",
    "\n",
    "#  打印小明\n",
    "print(student.name)\n",
    "\n",
    "\n",
    "\n"
   ]
  },
  {
   "cell_type": "code",
   "execution_count": 3,
   "metadata": {},
   "outputs": [
    {
     "name": "stdout",
     "output_type": "stream",
     "text": [
      "(('没', 1), ('毫不', 2), ('绝不', 3), ('从不', 4), ('缺少', 5), ('从未有过', 6), ('切莫', 7), ('很少', 8), ('无须', 9), ('不要', 10), ('毫无', 11), ('不必', 12), ('难以', 13), ('别', 14), ('非', 15), ('一无', 16), ('停止', 17), ('否', 18), ('未', 19), ('尚无', 20), ('拒绝', 21), ('放下', 22), ('未尝', 23), ('不该', 24), ('扼杀', 25), ('木有', 26), ('莫', 27), ('并未', 28), ('不怎么', 29), ('放弃', 30), ('几乎不', 31), ('不曾', 32), ('极少', 33), ('反对', 34), ('反', 35), ('无', 36), ('不是', 37), ('从来不', 38), ('不用', 39), ('不可以', 40), ('请勿', 41), ('永不', 42), ('从未', 43), ('尚未', 44), ('绝非', 45), ('不能', 46), ('不会', 47), ('从没', 48), ('没有', 49), ('决不', 50), ('禁止', 51), ('缺乏', 52), ('不甚', 53), ('杜绝', 54), ('不好', 55), ('甭', 56), ('休想', 57), ('终止', 58), ('并非', 59), ('远非', 60), ('忌', 61), ('未曾', 62), ('不丁点儿', 63), ('聊', 64), ('怎么不', 65), ('毋', 66), ('弗', 67), ('勿', 68), ('不', 69), ('\\ufeff不大', 70), ('没怎么', 71))\n"
     ]
    }
   ],
   "source": [
    "#  引入pymysql\n",
    "import pymysql\n",
    "#  创建一个test方法\n",
    "def test():\n",
    "    #  创建一个链接\n",
    "    conn = pymysql.connect(host='dev.mysql.db.icpx.hoteamsoft.com', port=13306, user='qmt_u', password='qmt@2021', database='icpx_qmt', charset='utf8')\n",
    "    #  创建一个游标\n",
    "    cursor = conn.cursor()\n",
    "    #  创建一个sql语句\n",
    "    sql = \"select * from usde_negation\"\n",
    "    #  执行sql语句\n",
    "    cursor.execute(sql)\n",
    "    #  获取所有的结果\n",
    "    result = cursor.fetchall()\n",
    "    #  关闭游标\n",
    "    cursor.close()\n",
    "    #  关闭链接\n",
    "    conn.close()\n",
    "    #  返回结果\n",
    "    return result\n",
    "\n",
    "\n",
    "if __name__ == '__main__':\n",
    "    #  调用test方法\n",
    "    result = test()\n",
    "    #  打印结果\n",
    "    print(result)"
   ]
  },
  {
   "cell_type": "code",
   "execution_count": 21,
   "metadata": {},
   "outputs": [
    {
     "name": "stdout",
     "output_type": "stream",
     "text": [
      "[('temperature', 25.3), ('temperature', 25.3)]\n"
     ]
    }
   ],
   "source": [
    "#连接influxdb数据库\n",
    "import influxdb_client\n",
    "from influxdb_client.client.write_api import SYNCHRONOUS\n",
    "\n",
    "if __name__ == '__main__':\n",
    "    token = \"gGa9bGroE0yvYxutyO-Z_B9GgeUDtw_8KONBHzeHwSnmaH_QMvfhDfPvv-WrSiB-C8ea-ITp3D0X-sxHTWFAAA==\"\n",
    "    org = \"hoteamsoft\"\n",
    "    bucket = \"hoteamsoft\"\n",
    "    url=\"http://localhost:8086\"\n",
    "    #  创建一个influxdb客户端\n",
    "    client = influxdb_client.InfluxDBClient(url=url, token=token, org=org, bucket=bucket)\n",
    "    write_api = client.write_api(write_options=SYNCHRONOUS)\n",
    "    #  创建一个点\n",
    "    point = influxdb_client.Point(\"hoteamsoft\").tag(\"location\", \"Prague\").field(\"temperature\", 25.3)\n",
    "    #  写入数据\n",
    "    write_api.write(bucket, org,point)\n",
    "    # 实例化查询客户端\n",
    "    query_api = client.query_api()\n",
    "    # 创建 Flux 查询\n",
    "    query = 'from(bucket:\"hoteamsoft\")\\\n",
    "        |> range(start: -10m)\\\n",
    "        |> filter(fn:(r) => r._measurement == \"hoteamsoft\")\\\n",
    "        |> filter(fn: (r) => r.location == \"Prague\")\\\n",
    "        |> filter(fn:(r) => r._field == \"temperature\" )'\n",
    "    # 向query()方法传递两个命名参数：org和query\n",
    "    result = query_api.query(org=org, query=query)\n",
    "    # 创建结果集\n",
    "    results = []\n",
    "    for table in result:\n",
    "        for record in table.records:\n",
    "            results.append((record.get_field(), record.get_value()))\n",
    "    # 打印结果\n",
    "    print(results)\n",
    "\n"
   ]
  }
 ],
 "metadata": {
  "interpreter": {
   "hash": "7216cfcd6a6213a6581f0fbf9c63a0e41ca3e8bbaa00ed7908793894f930ee86"
  },
  "kernelspec": {
   "display_name": "Python 3.7.4 64-bit ('python37': conda)",
   "language": "python",
   "name": "python3"
  },
  "language_info": {
   "codemirror_mode": {
    "name": "ipython",
    "version": 3
   },
   "file_extension": ".py",
   "mimetype": "text/x-python",
   "name": "python",
   "nbconvert_exporter": "python",
   "pygments_lexer": "ipython3",
   "version": "3.7.4"
  },
  "orig_nbformat": 4
 },
 "nbformat": 4,
 "nbformat_minor": 2
}
